{
 "cells": [
  {
   "cell_type": "code",
   "execution_count": 1,
   "id": "fb0b18dc",
   "metadata": {
    "tags": []
   },
   "outputs": [],
   "source": [
    "from netCDF4 import Dataset\n",
    "import datetime\n",
    "import matplotlib.pyplot as plt\n",
    "import pandas as pd\n",
    "import os\n",
    "import numpy as np\n",
    "from scipy.signal import argrelextrema\n",
    "import pickle\n",
    "import warnings\n",
    "import kuka_tools as kt\n",
    "# You can find kuka_tools at https://github.com/robbiemallett/custom_modules/blob/master/kuka_tools.py"
   ]
  },
  {
   "cell_type": "code",
   "execution_count": 2,
   "id": "715cb84b",
   "metadata": {
    "tags": []
   },
   "outputs": [],
   "source": [
    "directory = '../data'"
   ]
  },
  {
   "cell_type": "code",
   "execution_count": 3,
   "id": "33d8d756",
   "metadata": {
    "tags": []
   },
   "outputs": [],
   "source": [
    "# pits = pickle.load(open(f'{directory}/pickles/kuka_pits.p','rb'))"
   ]
  },
  {
   "cell_type": "code",
   "execution_count": 4,
   "id": "2275d925",
   "metadata": {
    "tags": []
   },
   "outputs": [],
   "source": [
    "\n",
    "ku_ranges = np.array(pd.read_csv('../data/ku_ranges.csv')['ku'])\n",
    "ka_ranges = np.array(pd.read_csv('../data/ka_ranges.csv')['ka'])\n",
    "ranges = {'ku':ku_ranges,'ka':ka_ranges}"
   ]
  },
  {
   "cell_type": "code",
   "execution_count": 13,
   "id": "bc4c1b03",
   "metadata": {
    "tags": []
   },
   "outputs": [],
   "source": [
    "file_name_formats = ['North_Cove_','Hangar_2023102_','Hangar_2023103_a_','Hangar_2023103_b_','Hangar_2023106_single_pit_']\n",
    "figure_directories = ['North_Cove','Hangar_Cove/Oct_2','Hangar_Cove/Oct_3_a','Hangar_Cove/Oct_3_b','Hangar_Cove/Oct_6']\n",
    "num_pits = [7,7,7,7,1]\n",
    "\n",
    "for ff, fd,num_pit in zip(file_name_formats,figure_directories,num_pits):\n",
    "    \n",
    "    pitnos = np.arange(1,num_pit+1)\n",
    "\n",
    "    for freq in ['ka','ku']:\n",
    "\n",
    "        for pol in ['hh', 'hv']:\n",
    "\n",
    "            range_vals_for_ylim = []\n",
    "\n",
    "            for pitno in pitnos:\n",
    "\n",
    "                data_dict = pd.read_csv(f'../data/waveforms/{ff}{pitno}_{freq}.csv')\n",
    "\n",
    "                snow_line = data_dict[pol]\n",
    "\n",
    "                series = np.log10(snow_line)\n",
    "                # Or redefine to avoid log scale:\n",
    "                series = snow_line\n",
    "\n",
    "                plt.plot(ranges[freq],series,label=f'Pit Num: {pitno}')\n",
    "\n",
    "                range_vals_for_ylim.append(list(series[(ranges[freq]>1.4)&(ranges[freq]<2.1)]))\n",
    "\n",
    "            plt.ylim(0,np.max(range_vals_for_ylim)+0.1*np.max(range_vals_for_ylim))\n",
    "\n",
    "            plt.ylabel('Returned Power (mW)',fontsize='x-large')\n",
    "            plt.xlabel('Radar Range (m)',fontsize='x-large')\n",
    "\n",
    "            plt.xlim(1.5,2.1)\n",
    "            plt.legend()\n",
    "            plt.title(f'{freq} {pol}',fontsize='xx-large')\n",
    "\n",
    "            plt.savefig(f'../figures/{fd}/{freq}_{pol}_all_pits.png')\n",
    "\n",
    "            plt.close()"
   ]
  },
  {
   "cell_type": "code",
   "execution_count": 17,
   "id": "f0b25dc6",
   "metadata": {
    "tags": []
   },
   "outputs": [],
   "source": [
    "file_name_formats = ['North_Cove_','Hangar_2023102_','Hangar_2023103_a_','Hangar_2023103_b_','Hangar_2023106_single_pit_']\n",
    "figure_directories = ['North_Cove','Hangar_Cove/Oct_2','Hangar_Cove/Oct_3_a','Hangar_Cove/Oct_3_b','Hangar_Cove/Oct_6']\n",
    "num_pits = [7,7,7,7,1]\n",
    "\n",
    "for ff, fd,num_pit in zip(file_name_formats,figure_directories,num_pits):\n",
    "    \n",
    "    pitnos = np.arange(1,num_pit+1)\n",
    "\n",
    "    for pitno in pitnos:\n",
    "\n",
    "        for freq,color in zip(['ka','ku'],['crimson','darkblue']):\n",
    "\n",
    "            for pol,ls in zip(['hh', 'hv'],['-','--']):\n",
    "\n",
    "                range_vals_for_ylim = []\n",
    "\n",
    "                data_dict = pd.read_csv(f'../data/waveforms/{ff}{pitno}_{freq}.csv')\n",
    "\n",
    "                snow_line = data_dict[pol]\n",
    "\n",
    "                series = np.log10(snow_line)\n",
    "                # Or redefine to avoid log scale:\n",
    "                series = snow_line[(ranges[freq]>1.4)&(ranges[freq]<2.1)]\n",
    "                r = ranges[freq][(ranges[freq]>1.4)&(ranges[freq]<2.1)]\n",
    "\n",
    "                plt.plot(r,series/np.max(series),label=f'{freq} {pol}',color=color,ls=ls)\n",
    "\n",
    "\n",
    "        plt.ylim(0,1.1)\n",
    "\n",
    "        plt.ylabel('Returned Power (Normalised)',fontsize='x-large')\n",
    "        plt.xlabel('Radar Range (m)',fontsize='x-large')\n",
    "\n",
    "        plt.xlim(1.5,2.1)\n",
    "        plt.legend()\n",
    "        plt.title(f'Pit Number {pitno}',fontsize='xx-large')\n",
    "\n",
    "        plt.savefig(f'../figures/{fd}/{pitno}.png')\n",
    "\n",
    "        plt.close()"
   ]
  },
  {
   "cell_type": "code",
   "execution_count": null,
   "id": "ea9d6267",
   "metadata": {},
   "outputs": [],
   "source": []
  },
  {
   "cell_type": "code",
   "execution_count": null,
   "id": "5de43e7c",
   "metadata": {},
   "outputs": [],
   "source": []
  },
  {
   "cell_type": "code",
   "execution_count": null,
   "id": "ef702cf8",
   "metadata": {},
   "outputs": [],
   "source": []
  },
  {
   "cell_type": "code",
   "execution_count": null,
   "id": "830b32c5",
   "metadata": {},
   "outputs": [],
   "source": []
  },
  {
   "cell_type": "code",
   "execution_count": null,
   "id": "b00450a7",
   "metadata": {},
   "outputs": [],
   "source": []
  },
  {
   "cell_type": "code",
   "execution_count": null,
   "id": "87c2176f",
   "metadata": {},
   "outputs": [],
   "source": []
  },
  {
   "cell_type": "code",
   "execution_count": null,
   "id": "23ffb76d",
   "metadata": {},
   "outputs": [],
   "source": []
  },
  {
   "cell_type": "code",
   "execution_count": null,
   "id": "eb4fd1fa",
   "metadata": {},
   "outputs": [],
   "source": []
  }
 ],
 "metadata": {
  "kernelspec": {
   "display_name": "Python 3 (ipykernel)",
   "language": "python",
   "name": "python3"
  },
  "language_info": {
   "codemirror_mode": {
    "name": "ipython",
    "version": 3
   },
   "file_extension": ".py",
   "mimetype": "text/x-python",
   "name": "python",
   "nbconvert_exporter": "python",
   "pygments_lexer": "ipython3",
   "version": "3.8.18"
  }
 },
 "nbformat": 4,
 "nbformat_minor": 5
}
